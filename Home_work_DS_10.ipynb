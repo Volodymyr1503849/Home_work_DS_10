{
 "cells": [
  {
   "cell_type": "code",
   "execution_count": 60,
   "metadata": {},
   "outputs": [],
   "source": [
    "import pandas as pd\n",
    "from surprise import Dataset, Reader, SVD\n",
    "from surprise.model_selection import train_test_split\n",
    "from surprise.model_selection import cross_validate\n",
    "from surprise import Dataset, Reader, SVD, SVDpp, NMF"
   ]
  },
  {
   "cell_type": "code",
   "execution_count": 61,
   "metadata": {},
   "outputs": [],
   "source": [
    "table = pd.read_csv(\"ratings.csv\")\n",
    "table_new = table.drop(table.columns[-1], axis=1)"
   ]
  },
  {
   "cell_type": "code",
   "execution_count": 62,
   "metadata": {},
   "outputs": [],
   "source": [
    "reader = Reader(rating_scale=(1, 5))"
   ]
  },
  {
   "cell_type": "code",
   "execution_count": 63,
   "metadata": {},
   "outputs": [],
   "source": [
    "data = Dataset.load_from_df(pd.DataFrame(table_new, columns=['userId', 'movieId', 'rating']), reader)\n"
   ]
  },
  {
   "cell_type": "code",
   "execution_count": 64,
   "metadata": {},
   "outputs": [],
   "source": [
    "trainset, testset = train_test_split(data, test_size=0.25)"
   ]
  },
  {
   "cell_type": "code",
   "execution_count": 65,
   "metadata": {},
   "outputs": [],
   "source": [
    "model = SVD()"
   ]
  },
  {
   "cell_type": "code",
   "execution_count": 66,
   "metadata": {},
   "outputs": [
    {
     "data": {
      "text/plain": [
       "<surprise.prediction_algorithms.matrix_factorization.SVD at 0x20c5bb03f90>"
      ]
     },
     "execution_count": 66,
     "metadata": {},
     "output_type": "execute_result"
    }
   ],
   "source": [
    "model.fit(trainset)"
   ]
  },
  {
   "cell_type": "code",
   "execution_count": 67,
   "metadata": {},
   "outputs": [],
   "source": [
    "predictions = model.test(testset)"
   ]
  },
  {
   "cell_type": "code",
   "execution_count": 68,
   "metadata": {},
   "outputs": [
    {
     "name": "stdout",
     "output_type": "stream",
     "text": [
      "Evaluating RMSE, MAE of algorithm SVD on 5 split(s).\n",
      "\n",
      "                  Fold 1  Fold 2  Fold 3  Fold 4  Fold 5  Mean    Std     \n",
      "RMSE (testset)    0.8696  0.8725  0.8684  0.8718  0.8833  0.8731  0.0053  \n",
      "MAE (testset)     0.6678  0.6704  0.6663  0.6721  0.6775  0.6708  0.0039  \n",
      "Fit time          0.99    0.89    0.92    0.90    0.93    0.93    0.04    \n",
      "Test time         0.19    0.07    0.06    0.07    0.06    0.09    0.05    \n"
     ]
    },
    {
     "data": {
      "text/plain": [
       "{'test_rmse': array([0.86957667, 0.87246172, 0.86844883, 0.87182481, 0.88331809]),\n",
       " 'test_mae': array([0.66778319, 0.67039109, 0.66626123, 0.67206862, 0.67754106]),\n",
       " 'fit_time': (0.9933233261108398,\n",
       "  0.8896629810333252,\n",
       "  0.9154019355773926,\n",
       "  0.9024519920349121,\n",
       "  0.9323122501373291),\n",
       " 'test_time': (0.1864323616027832,\n",
       "  0.07301783561706543,\n",
       "  0.06139183044433594,\n",
       "  0.06954264640808105,\n",
       "  0.062255144119262695)}"
      ]
     },
     "execution_count": 68,
     "metadata": {},
     "output_type": "execute_result"
    }
   ],
   "source": [
    "cross_validate(model, data, measures=['RMSE', 'MAE'], cv=5, verbose=True)"
   ]
  },
  {
   "cell_type": "code",
   "execution_count": 69,
   "metadata": {},
   "outputs": [],
   "source": [
    "models = {\n",
    "    'SVD': SVD(),\n",
    "    'SVD++': SVDpp(),\n",
    "    'NMF': NMF()\n",
    "}"
   ]
  },
  {
   "cell_type": "code",
   "execution_count": 70,
   "metadata": {},
   "outputs": [],
   "source": [
    "results = {}"
   ]
  },
  {
   "cell_type": "code",
   "execution_count": 72,
   "metadata": {},
   "outputs": [],
   "source": [
    "for name, model in models.items():\n",
    "    cv_results = cross_validate(model, data, measures=['RMSE', 'MAE'], cv=5, verbose=False)\n",
    "    results[name] = {\n",
    "        'RMSE': cv_results['test_rmse'].mean(),\n",
    "        'MAE': cv_results['test_mae'].mean() }"
   ]
  },
  {
   "cell_type": "code",
   "execution_count": 73,
   "metadata": {},
   "outputs": [
    {
     "name": "stdout",
     "output_type": "stream",
     "text": [
      "SVD: RMSE = 0.8739, MAE = 0.6716\n",
      "SVD++: RMSE = 0.8604, MAE = 0.6602\n",
      "NMF: RMSE = 0.9208, MAE = 0.7062\n"
     ]
    }
   ],
   "source": [
    "for model_name, metrics in results.items():\n",
    "    print(f\"{model_name}: RMSE = {metrics['RMSE']:.4f}, MAE = {metrics['MAE']:.4f}\")"
   ]
  }
 ],
 "metadata": {
  "kernelspec": {
   "display_name": "base",
   "language": "python",
   "name": "python3"
  },
  "language_info": {
   "codemirror_mode": {
    "name": "ipython",
    "version": 3
   },
   "file_extension": ".py",
   "mimetype": "text/x-python",
   "name": "python",
   "nbconvert_exporter": "python",
   "pygments_lexer": "ipython3",
   "version": "3.11.9"
  }
 },
 "nbformat": 4,
 "nbformat_minor": 2
}
